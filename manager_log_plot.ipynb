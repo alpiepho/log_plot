{
 "metadata": {
  "language_info": {
   "codemirror_mode": {
    "name": "ipython",
    "version": 3
   },
   "file_extension": ".py",
   "mimetype": "text/x-python",
   "name": "python",
   "nbconvert_exporter": "python",
   "pygments_lexer": "ipython3",
   "version": "3.8.5-final"
  },
  "orig_nbformat": 2,
  "kernelspec": {
   "name": "Python 3.8.5 64-bit",
   "display_name": "Python 3.8.5 64-bit",
   "metadata": {
    "interpreter": {
     "hash": "082e9a3bcad0a290d0001e938aa60b99250c6c2ef33a923c00b70f9826caf4b7"
    }
   }
  }
 },
 "nbformat": 4,
 "nbformat_minor": 2,
 "cells": [
  {
   "cell_type": "markdown",
   "metadata": {},
   "source": [
    "# Parse manager.log file\n",
    "This Jupyter Notebook allows parsing log files, looking for similar log messages over time and generating a plot of key name/labels that vary per log entry.  This generates a scatter plot.\n",
    "\n",
    "Hopefully this can be used as a template for further log file visualization.\n"
   ]
  },
  {
   "cell_type": "code",
   "execution_count": 6,
   "metadata": {},
   "outputs": [
    {
     "output_type": "stream",
     "name": "stdout",
     "text": [
      "/usr/bin/python3.8\n",
      "Requirement already satisfied: pandas in /home/alpiepho/.local/lib/python3.8/site-packages (1.1.4)\n",
      "Requirement already satisfied: python-dateutil>=2.7.3 in /usr/lib/python3/dist-packages (from pandas) (2.7.3)\n",
      "Requirement already satisfied: pytz>=2017.2 in /usr/lib/python3/dist-packages (from pandas) (2019.3)\n",
      "Requirement already satisfied: numpy>=1.15.4 in /usr/lib/python3/dist-packages (from pandas) (1.17.4)\n",
      "Collecting plotly\n",
      "  Downloading plotly-4.12.0-py2.py3-none-any.whl (13.1 MB)\n",
      "\u001b[K     |████████████████████████████████| 13.1 MB 11.1 MB/s \n",
      "\u001b[?25hRequirement already satisfied: six in /usr/lib/python3/dist-packages (from plotly) (1.14.0)\n",
      "Collecting retrying>=1.3.3\n",
      "  Downloading retrying-1.3.3.tar.gz (10 kB)\n",
      "Building wheels for collected packages: retrying\n",
      "  Building wheel for retrying (setup.py) ... \u001b[?25ldone\n",
      "\u001b[?25h  Created wheel for retrying: filename=retrying-1.3.3-py3-none-any.whl size=11430 sha256=5a0eeecfbc2d3d58722c7863960355ca1c85dbad35d1d2cb39ef16c510d4b54d\n",
      "  Stored in directory: /home/alpiepho/.cache/pip/wheels/c4/a7/48/0a434133f6d56e878ca511c0e6c38326907c0792f67b476e56\n",
      "Successfully built retrying\n",
      "Installing collected packages: retrying, plotly\n",
      "Successfully installed plotly-4.12.0 retrying-1.3.3\n"
     ]
    }
   ],
   "source": [
    "!which python3.8\n",
    "!python3.8 -m pip install pandas\n",
    "!python3.8 -m pip install plotly"
   ]
  },
  {
   "cell_type": "code",
   "execution_count": 7,
   "metadata": {},
   "outputs": [],
   "source": [
    "# convert log file to pandas dataframe\n",
    "import pandas as pd\n",
    "from io import StringIO\n",
    "\n",
    "filename = 'manager.log'\n",
    "\n",
    "# 2020-11-03 21:15:03,856 - WARNING - 43883 - Stats Poll: MRUTDNTLDNS002: A failure in statistics polling resulted in NO DATA being returned for:\n",
    "# 0          1              3                             9\n",
    "pattern = 'A failure in statistics polling resulted in NO DATA'\n",
    "pattern_filter_pre = 'Stats Poll: '\n",
    "pattern_filter_post = ': A failure in statistics polling resulted in NO DATA being returned for:'\n",
    "# use python loop to filter matching lines\n",
    "text = []\n",
    "with open(filename) as f:\n",
    "    for line in f:\n",
    "        if pattern in line:            \n",
    "            text.append(line)\n",
    "text = \"\".join(text)\n",
    "\n",
    "# use pandas to parse matching lines\n",
    "df = pd.read_csv(StringIO(text), sep=\" - \", names=['Time','Level','PID', 'Text'], engine='python')\n",
    "df.Time = pd.to_datetime(df.Time, format='%Y-%m-%d %H:%M:%S,%f')\n",
    "df.Text = df.Text.str.replace(pattern_filter_pre, '')\n",
    "df.Text = df.Text.str.replace(pattern_filter_post, '')\n",
    "#DEBUG\n",
    "# print(len(text))\n",
    "# print (df.dtypes)\n",
    "# df.info()"
   ]
  },
  {
   "cell_type": "code",
   "execution_count": 8,
   "metadata": {},
   "outputs": [
    {
     "output_type": "error",
     "ename": "NameError",
     "evalue": "name 'labels' is not defined",
     "traceback": [
      "\u001b[0;31m---------------------------------------------------------------------------\u001b[0m",
      "\u001b[0;31mNameError\u001b[0m                                 Traceback (most recent call last)",
      "\u001b[0;32m<ipython-input-8-b713ca60e457>\u001b[0m in \u001b[0;36m<module>\u001b[0;34m\u001b[0m\n\u001b[1;32m      1\u001b[0m \u001b[0;31m# find unique list of name/labels\u001b[0m\u001b[0;34m\u001b[0m\u001b[0;34m\u001b[0m\u001b[0;34m\u001b[0m\u001b[0m\n\u001b[1;32m      2\u001b[0m \u001b[0mall_labels\u001b[0m \u001b[0;34m=\u001b[0m \u001b[0mdf\u001b[0m\u001b[0;34m.\u001b[0m\u001b[0mText\u001b[0m\u001b[0;34m.\u001b[0m\u001b[0mto_list\u001b[0m\u001b[0;34m(\u001b[0m\u001b[0;34m)\u001b[0m\u001b[0;34m\u001b[0m\u001b[0;34m\u001b[0m\u001b[0m\n\u001b[0;32m----> 3\u001b[0;31m \u001b[0mall_labels\u001b[0m \u001b[0;34m=\u001b[0m \u001b[0mlist\u001b[0m\u001b[0;34m(\u001b[0m\u001b[0mset\u001b[0m\u001b[0;34m(\u001b[0m\u001b[0mlabels\u001b[0m\u001b[0;34m)\u001b[0m\u001b[0;34m)\u001b[0m\u001b[0;34m\u001b[0m\u001b[0;34m\u001b[0m\u001b[0m\n\u001b[0m\u001b[1;32m      4\u001b[0m \u001b[0mall_labels\u001b[0m\u001b[0;34m.\u001b[0m\u001b[0msort\u001b[0m\u001b[0;34m(\u001b[0m\u001b[0;34m)\u001b[0m\u001b[0;34m\u001b[0m\u001b[0;34m\u001b[0m\u001b[0m\n\u001b[1;32m      5\u001b[0m \u001b[0;32mfor\u001b[0m \u001b[0mlabel\u001b[0m \u001b[0;32min\u001b[0m \u001b[0mall_labels\u001b[0m\u001b[0;34m:\u001b[0m\u001b[0;34m\u001b[0m\u001b[0;34m\u001b[0m\u001b[0m\n",
      "\u001b[0;31mNameError\u001b[0m: name 'labels' is not defined"
     ]
    }
   ],
   "source": [
    "# find unique list of name/labels\n",
    "all_labels = df.Text.to_list()\n",
    "all_labels = list(set(labels))\n",
    "all_labels.sort()\n",
    "for label in all_labels:\n",
    "    print(label)\n",
    "print(len(all_labels))"
   ]
  },
  {
   "cell_type": "code",
   "execution_count": 9,
   "metadata": {},
   "outputs": [
    {
     "output_type": "stream",
     "name": "stdout",
     "text": [
      "NVMBRCPGDNS025\nCHNNTFKRDNS007\nAMBDAMDBDNS009\nCHNNTFKRDNS007\nBHPLSVDHDNS001\nLDHNCHPTDNS002\nMRUTDNTLDNS002\nCHNNTFKRDNS007\nNOIDNDFDDNS018\nCHNNTFKRDNS007\nMRUTDNTLDNS002\nMRUTDNTLDNS002\nCHNNTFKRDNS007\nPTNARKPRDNS005\nKNPRCKDTDNS001\nLDHNCHPTDNS003\nCHNNTFKRDNS007\nMRUTDNTLDNS003\nMDURPDNNDNS001\nKNPRCKDTDNS003\nCHNNTFKRDNS007\nPTNARJPLDNS001\nCHNNTFKRDNS007\nMRUTDNTLDNS003\nMRUTDNTLDNS003\nCHNNTFKRDNS007\nBHPLSVDHDNS002\nMRUTDNTLDNS003\nCHNNTFKRDNS007\nMRUTDNTLDNS003\nCHNNTFKRDNS007\nMRUTDNTLDNS003\nCHNNTFKRDNS007\nAMBDJSBWDNS003\nMRUTDNTLDNS003\nMDURPDNNDNS002\nCHNNTFKRDNS007\nPTNARKPRDNS007\nPTNARJPLDNS004\nNGPRSNGNDNS008\nBHPLSVDHDNS001\nMRUTDNTLDNS003\nCHNNTFKRDNS007\nBBSRBDGLDNS005\nMOUDRAHDDNS003\nMRUTDNTLDNS003\nCHNNTFKRDNS007\nDLHIVKDEDNS008\nMRUTDNTLDNS003\nCHNNTFKRDNS007\nMRUTDNTLDNS003\nCHNNTFKRDNS007\nDLHIVKDEDNS009\nAMBDAMDBDNS008\nMRUTDNTLDNS003\nKNPRCKDTDNS002\nCHNNTFKRDNS007\nAMBDAMDBDNS007\nMRUTDNTLDNS003\nCHNNTFKRDNS007\nMRUTDNTLDNS003\nCHNNTFKRDNS007\nMRUTDNTLDNS003\nCHNNTFKRDNS007\nMRUTDNTLDNS003\nCHNNTFKRDNS007\nPTNARKPRDNS005\nJPURTBNRDNS006\nMRUTDNTLDNS003\nJPURTBNRDNS007\nCHNNTFKRDNS007\nMOUDRAHDDNS003\nMRUTDNTLDNS003\nCHNNTFKRDNS007\nLCKNPLBGDNS009\nBHPLSVDHDNS002\nBHPLSVDHDNS003\nMRUTDNTLDNS003\nCHNNTFKRDNS007\nMRUTDNTLDNS003\nCHNNTFKRDNS007\nMRUTDNTLDNS003\nCHNNTFKRDNS007\nMRUTDNTLDNS003\nCHNNTFKRDNS007\nBBSRCPTCDNS002\nBHPLSVDHDNS001\nMRUTDNTLDNS003\nMDURPDNNDNS001\nCHNNTFKRDNS007\nMRUTDNTLDNS003\nCHNNTFKRDNS007\nBGLRUPKWDNS012\nMRUTDNTLDNS003\nCHNNTFKRDNS007\nBGLRUPKWDNS011\nMRUTDNTLDNS003\nCHNNTFKRDNS007\nMRUTDNTLDNS003\nMDURPDNNDNS002\nCHNNTFKRDNS007\nNVMBRCPGDNS025\nMRUTDNTLDNS003\nKNPRCKDTDNS001\nCHNNTFKRDNS007\nMRUTDNTLDNS003\nKNPRCKDTDNS003\nCHNNTFKRDNS007\nBHPLSVDHDNS003\nMRUTDNTLDNS003\nCHNNTFKRDNS007\nMRUTDNTLDNS003\nNOIDNDFDDNS017\nCHNNTFKRDNS007\nPTNARKPRDNS007\nBGLRUPKWDNS010\nLCKNPLBGDNS010\nMRUTDNTLDNS003\nCHNNTFKRDNS007\nLCKNPLBGDNS008\nMRUTDNTLDNS003\nCHNNTFKRDNS007\nMRUTDNTLDNS003\nCHNNTFKRDNS007\nLCKNPLBGDNS009\nMRUTDNTLDNS003\nCHNNTFKRDNS007\nbbsrcptcdns003\nMRUTDNTLDNS003\nCHNNTFKRDNS007\nPTNARKPRDNS005\nAMBDJSBWDNS001\nMRUTDNTLDNS003\nCHNNTFKRDNS007\nMRUTDNTLDNS003\nCHNNTFKRDNS007\nNGPRSNGNDNS005\nMRUTDNTLDNS003\nCHNNTFKRDNS007\nLCKNPLBGDNS010\nMRUTDNTLDNS003\nhdbdtkpydns001\nCHNNTFKRDNS007\nMRUTDNTLDNS003\nCHNNTFKRDNS007\nMRUTDNTLDNS003\nCHNNTFKRDNS007\nMRUTDNTLDNS003\nKOCHTPTADNS006\nCHNNTFKRDNS007\nPTNARKPRDNS006\nAMBDJSBWDNS002\nASSLVNGRDNS002\nMRUTDNTLDNS003\nCHNNTFKRDNS007\nPTNARKPRDNS005\nLCKNPLBGDNS009\nMRUTDNTLDNS003\nCHNNTFKRDNS007\nBHPLSHPRDNS004\nMRUTDNTLDNS003\nKOCHTPTADNS004\nCHNNTFKRDNS007\nLCKNPLBGDNS008\nLCKNPLBGDNS010\nMRUTDNTLDNS003\nMDURPDNNDNS003\nMDURPDNNDNS001\nCHNNTFKRDNS007\nBGLRUPKWDNS011\nSGMLCNGBDNS001\nMRUTDNTLDNS003\nMDURPDNNDNS002\nCHNNTFKRDNS007\nBBSRBDGLDNS006\nMRUTDNTLDNS003\nMDURPDNNDNS002\nhdbdtkpydns002\nCHNNTFKRDNS007\nBHPLSHPRDNS005\nAMBDJSBWDNS003\nMRUTDNTLDNS003\nLDHNCHPTDNS001\nCHNNTFKRDNS007\nAGRALHMDDNS004\nDLHIVKDEDNS008\nHDBDBGLMDNS002\nNGPRSNGNDNS006\nMRUTDNTLDNS003\nMDURPDNNDNS001\nCHNNTFKRDNS007\nPTNARKPRDNS007\nDLHIVKDEDNS009\nMRUTDNTLDNS003\nCHNNTFKRDNS007\nPTNARKPRDNS006\nJPURTBNRDNS005\nMRUTDNTLDNS003\nCHNNTFKRDNS007\nAGRALHMDDNS005\nHDBDBGLMDNS001\nAMBDJSBWDNS001\nMRUTDNTLDNS003\nCHNNTFKRDNS007\nPTNARKPRDNS007\nHDBDBGLMDNS001\nBHPLSVDHDNS002\nMRUTDNTLDNS003\nMDURPDNNDNS003\nCHNNTFKRDNS007\nBGLRUPKWDNS011\nHDBDBGLMDNS003\nNGPRSNGNDNS007\nMRUTDNTLDNS003\nCHNNTFKRDNS007\nLCKNPLBGDNS008\nCHNNSMJRDNS007\nBGLRUPKWDNS010\nMOUDRAHDDNS005\nBHPLSVDHDNS001\nASSLVNGRDNS002\nMRUTDNTLDNS003\nCHNNTFKRDNS007\nBGLRUPKWDNS012\nCHNNSMJRDNS006\nAMBDJSBWDNS002\nBHPLSHPRDNS004\nKOCHTPTADNS005\nMRUTDNTLDNS003\nCHNNTFKRDNS007\nBGLRUPKWDNS012\nHDBDBGLMDNS002\nBHPLSVDHDNS003\nAMBDAMDBDNS010\nSGMLCNGBDNS002\nMRUTDNTLDNS003\nCHNNTFKRDNS007\nHDBDBGLMDNS003\nBHPLSVDHDNS002\nKGPRBPPMDNS001\nMRUTDNTLDNS003\nhdbdtkpydns003\nCHNNTFKRDNS007\nBGLRUPKWDNS010\nBHPLSHPRDNS006\nJPURTBNRDNS007\nMRUTDNTLDNS003\nCHNNTFKRDNS007\nBHPLSHPRDNS005\nAMBDJSBWDNS003\nMOUDRAHDDNS005\nMOUDRAHDDNS004\nKGPRBPPMDNS003\nJPURTBNRDNS006\nMRUTDNTLDNS003\nCHNNTFKRDNS007\nPTNARKPRDNS005\nBHPLSVDHDNS003\nKNPRCKDTDNS002\nMRUTDNTLDNS003\nCHNNTFKRDNS007\nPTNARKPRDNS006\nDLHIVKDEDNS008\nAMBAPMNRDNS007\nAMBDAMDBDNS009\nSHMLKYRIDNS004\nMRUTDNTLDNS003\nCHNNTFKRDNS007\nSHHDSHHDDNS003\nDLHIVKDEDNS009\nMRUTDNTLDNS003\nCHNNTFKRDNS007\nNGPRSNGNDNS008\nKGPRBPPMDNS002\nMDURPDNNDNS003\nMRUTDNTLDNS003\nCHNNTFKRDNS007\nPTNARKPRDNS005\nSHHDSHHDDNS002\nUDPRULTCDNS002\nHDBDBGTGDNS011\nNVMBRCPGDNS025\nMOUDRAHDDNS003\nMRUTDNTLDNS003\nCHNNTFKRDNS007\nKLKTKTBADNS007\nAMBAPMNRDNS009\nAMBDAMDBDNS008\nAMBDAMDBDNS007\nBBSRCPTCDNS001\nMOUDRAHDDNS004\nMRUTDNTLDNS003\nCHNNTFKRDNS007\nHDBDBGLMDNS001\nCHNNSMJRDNS008\nNVMBRCPGDNS026\nBHPLSHPRDNS006\nASSLVNGRDNS001\nKNPRCKDTDNS001\nMRUTDNTLDNS003\nCHNNTFKRDNS007\nSHHDSHHDDNS001\nNOIDNDFDDNS014\nUDPRULTCDNS003\nBHPLSHPRDNS004\nKNPRCKDTDNS003\nSHMLKYRIDNS006\nMRUTDNTLDNS003\nCHNNTFKRDNS007\nUDPRULTCDNS001\nAGRALHMDDNS006\nNGPRSNGNDNS005\nKGPRBPPMDNS003\nMRUTDNTLDNS003\nCHNNTFKRDNS007\nSGMLCNGBDNS003\nMRUTDNTLDNS003\nCHNNTFKRDNS007\nBGLRUPKWDNS011\nAMBDJSBWDNS001\nHDBDBGLMDNS002\nMOUDRAHDDNS003\nKGPRBPPMDNS001\nMRUTDNTLDNS003\nMDURPDNNDNS003\nCHNNTFKRDNS007\nBGLRUPKWDNS012\nHDBDBGLMDNS001\nBHPLSHPRDNS005\nHDBDBGLMDNS003\nMRUTDNTLDNS003\nCHNNTFKRDNS007\nBGLRUPKWDNS010\nKGPRBPPMDNS003\nMRUTDNTLDNS003\nCHNNTFKRDNS007\n336\n"
     ]
    }
   ],
   "source": [
    "# adjust labels to view\n",
    "select_labels = all_labels\n",
    "# select_labels = { \\\n",
    "#     'AGRALHMDDNS004', \\\n",
    "#     'AGRALHMDDNS005', \\\n",
    "#     'AGRALHMDDNS006', \\\n",
    "#     'AMBAPMNRDNS007', \\\n",
    "#     'AMBAPMNRDNS009', \\\n",
    "#     'AMBDAMDBDNS007', \\\n",
    "#     'AMBDAMDBDNS008', \\\n",
    "#     'AMBDAMDBDNS009', \\\n",
    "#     'AMBDAMDBDNS010', \\\n",
    "#     'AMBDJSBWDNS001', \\\n",
    "#     'AMBDJSBWDNS002', \\\n",
    "#     'AMBDJSBWDNS003',\n",
    "# }\n",
    "for label in select_labels:\n",
    "    print(label)\n",
    "print(len(all_labels))"
   ]
  },
  {
   "cell_type": "code",
   "execution_count": 10,
   "metadata": {},
   "outputs": [
    {
     "output_type": "stream",
     "name": "stdout",
     "text": [
      "<class 'pandas.core.frame.DataFrame'>\nInt64Index: 336 entries, 0 to 335\nData columns (total 4 columns):\n #   Column  Non-Null Count  Dtype         \n---  ------  --------------  -----         \n 0   Time    336 non-null    datetime64[ns]\n 1   Level   336 non-null    object        \n 2   PID     336 non-null    int64         \n 3   Text    336 non-null    object        \ndtypes: datetime64[ns](1), int64(1), object(2)\nmemory usage: 13.1+ KB\n"
     ]
    }
   ],
   "source": [
    "# filter only labels\n",
    "df2 = df[df['Text'].isin(select_labels)]\n",
    "df2.info()"
   ]
  },
  {
   "cell_type": "code",
   "execution_count": 11,
   "metadata": {},
   "outputs": [],
   "source": [
    "# set plot x and y series\n",
    "xdata = df2['Time']\n",
    "ydata = df2['Text']\n"
   ]
  },
  {
   "cell_type": "code",
   "execution_count": 70,
   "metadata": {},
   "outputs": [
    {
     "output_type": "display_data",
     "data": {
      "application/vnd.plotly.v1+json": {
       "config": {
        "plotlyServerURL": "https://plot.ly"
       },
       "data": [
        {
         "marker": {
          "color": "crimson",
          "size": 5
         },
         "mode": "markers",
         "name": "Server",
         "type": "scatter",
         "x": [
          "2020-11-03T20:58:24.118000",
          "2020-11-03T20:58:26.956000",
          "2020-11-03T21:04:00.204000",
          "2020-11-03T21:04:03.029000",
          "2020-11-03T21:09:30.499000",
          "2020-11-03T21:09:31.006000",
          "2020-11-03T21:09:32.035000",
          "2020-11-03T21:09:32.765000",
          "2020-11-03T21:09:32.791000",
          "2020-11-03T21:15:03.115000",
          "2020-11-03T21:15:03.856000",
          "2020-11-03T21:20:29.899000",
          "2020-11-03T21:20:30.654000",
          "2020-11-03T21:26:20.300000",
          "2020-11-03T21:26:23.713000",
          "2020-11-03T21:26:23.805000",
          "2020-11-03T21:26:25.267000",
          "2020-11-03T21:31:51.130000",
          "2020-11-03T21:31:51.928000",
          "2020-11-03T21:31:52.292000",
          "2020-11-03T21:31:52.798000",
          "2020-11-03T21:37:22.402000",
          "2020-11-03T21:37:26.253000",
          "2020-11-03T21:37:26.395000",
          "2020-11-03T21:42:54.765000",
          "2020-11-03T21:42:56.331000",
          "2020-11-03T21:48:22.939000",
          "2020-11-03T21:48:24.323000",
          "2020-11-03T21:48:25.948000",
          "2020-11-03T21:54:15.248000",
          "2020-11-03T21:54:16.899000",
          "2020-11-03T21:59:59.093000",
          "2020-11-03T22:00:00.674000",
          "2020-11-03T22:05:30.862000",
          "2020-11-03T22:05:31.867000",
          "2020-11-03T22:05:32.979000",
          "2020-11-03T22:05:33.460000",
          "2020-11-03T22:11:00.512000",
          "2020-11-03T22:11:00.750000",
          "2020-11-03T22:11:02.536000",
          "2020-11-03T22:11:02.551000",
          "2020-11-03T22:11:03.190000",
          "2020-11-03T22:11:04.859000",
          "2020-11-03T22:16:34.046000",
          "2020-11-03T22:16:34.134000",
          "2020-11-03T22:16:34.474000",
          "2020-11-03T22:16:36.058000",
          "2020-11-03T22:22:24.723000",
          "2020-11-03T22:22:27.039000",
          "2020-11-03T22:22:28.600000",
          "2020-11-03T22:28:03.478000",
          "2020-11-03T22:28:04.992000",
          "2020-11-03T22:33:46.798000",
          "2020-11-03T22:33:47.595000",
          "2020-11-03T22:33:48.905000",
          "2020-11-03T22:33:49.295000",
          "2020-11-03T22:33:50.454000",
          "2020-11-03T22:39:20.489000",
          "2020-11-03T22:39:22.156000",
          "2020-11-03T22:39:23.710000",
          "2020-11-03T22:44:50.391000",
          "2020-11-03T22:44:51.957000",
          "2020-11-03T22:50:38.021000",
          "2020-11-03T22:50:39.674000",
          "2020-11-03T22:56:07.975000",
          "2020-11-03T22:56:09.504000",
          "2020-11-03T23:01:51.082000",
          "2020-11-03T23:01:54.270000",
          "2020-11-03T23:01:54.364000",
          "2020-11-03T23:01:54.612000",
          "2020-11-03T23:01:55.975000",
          "2020-11-03T23:07:31.480000",
          "2020-11-03T23:07:31.761000",
          "2020-11-03T23:07:33.371000",
          "2020-11-03T23:13:09.749000",
          "2020-11-03T23:13:10.620000",
          "2020-11-03T23:13:10.947000",
          "2020-11-03T23:13:12.061000",
          "2020-11-03T23:13:13.634000",
          "2020-11-03T23:19:03.282000",
          "2020-11-03T23:19:04.867000",
          "2020-11-03T23:24:39.192000",
          "2020-11-03T23:24:40.843000",
          "2020-11-03T23:30:20.475000",
          "2020-11-03T23:30:22.055000",
          "2020-11-03T23:36:10.152000",
          "2020-11-03T23:36:10.173000",
          "2020-11-03T23:36:10.827000",
          "2020-11-03T23:36:11.679000",
          "2020-11-03T23:36:12.405000",
          "2020-11-03T23:41:52.526000",
          "2020-11-03T23:41:53.985000",
          "2020-11-03T23:47:37.963000",
          "2020-11-03T23:47:40.509000",
          "2020-11-03T23:47:42.084000",
          "2020-11-03T23:53:26.980000",
          "2020-11-03T23:53:29.119000",
          "2020-11-03T23:53:30.965000",
          "2020-11-03T23:59:02.690000",
          "2020-11-03T23:59:03.767000",
          "2020-11-03T23:59:04.214000",
          "2020-11-04T00:04:50.120000",
          "2020-11-04T00:04:51.438000",
          "2020-11-04T00:04:51.538000",
          "2020-11-04T00:04:53.069000",
          "2020-11-04T00:10:39.103000",
          "2020-11-04T00:10:40.478000",
          "2020-11-04T00:10:40.793000",
          "2020-11-04T00:16:23.280000",
          "2020-11-04T00:16:24.443000",
          "2020-11-04T00:16:26.055000",
          "2020-11-04T00:21:57.342000",
          "2020-11-04T00:21:58.767000",
          "2020-11-04T00:21:58.996000",
          "2020-11-04T00:27:41.277000",
          "2020-11-04T00:27:42.005000",
          "2020-11-04T00:27:42.170000",
          "2020-11-04T00:27:43.997000",
          "2020-11-04T00:27:45.656000",
          "2020-11-04T00:33:20.767000",
          "2020-11-04T00:33:23.486000",
          "2020-11-04T00:33:25.141000",
          "2020-11-04T00:39:10.670000",
          "2020-11-04T00:39:12.238000",
          "2020-11-04T00:45:01.749000",
          "2020-11-04T00:45:04.110000",
          "2020-11-04T00:45:05.709000",
          "2020-11-04T00:45:06.052000",
          "2020-11-04T00:50:35.921000",
          "2020-11-04T00:50:37.439000",
          "2020-11-04T00:56:19.281000",
          "2020-11-04T00:56:21.143000",
          "2020-11-04T00:56:22.533000",
          "2020-11-04T00:56:24.088000",
          "2020-11-04T01:01:59.235000",
          "2020-11-04T01:02:00.836000",
          "2020-11-04T01:07:46.759000",
          "2020-11-04T01:07:47.147000",
          "2020-11-04T01:07:48.684000",
          "2020-11-04T01:13:56.148000",
          "2020-11-04T01:13:57.968000",
          "2020-11-04T01:13:59.116000",
          "2020-11-04T01:13:59.558000",
          "2020-11-04T01:19:44.876000",
          "2020-11-04T01:19:46.477000",
          "2020-11-04T01:25:31.457000",
          "2020-11-04T01:25:33.083000",
          "2020-11-04T01:31:04.071000",
          "2020-11-04T01:31:05.126000",
          "2020-11-04T01:31:05.681000",
          "2020-11-04T01:36:41.999000",
          "2020-11-04T01:36:43.718000",
          "2020-11-04T01:36:44.800000",
          "2020-11-04T01:36:44.939000",
          "2020-11-04T01:36:46.468000",
          "2020-11-04T01:42:42.605000",
          "2020-11-04T01:42:43.480000",
          "2020-11-04T01:42:45.704000",
          "2020-11-04T01:42:47.252000",
          "2020-11-04T01:49:19.196000",
          "2020-11-04T01:49:20.769000",
          "2020-11-04T01:49:21.112000",
          "2020-11-04T01:49:22.342000",
          "2020-11-04T01:54:50.295000",
          "2020-11-04T01:54:51.208000",
          "2020-11-04T01:54:52.935000",
          "2020-11-04T01:54:53.241000",
          "2020-11-04T01:54:53.806000",
          "2020-11-04T01:54:54.454000",
          "2020-11-04T02:00:05.153000",
          "2020-11-04T02:00:07.018000",
          "2020-11-04T02:00:07.208000",
          "2020-11-04T02:00:08.360000",
          "2020-11-04T02:00:08.773000",
          "2020-11-04T02:00:08.779000",
          "2020-11-04T02:05:19.342000",
          "2020-11-04T02:05:20.520000",
          "2020-11-04T02:05:20.857000",
          "2020-11-04T02:05:20.938000",
          "2020-11-04T02:11:04.080000",
          "2020-11-04T02:11:04.415000",
          "2020-11-04T02:11:05.269000",
          "2020-11-04T02:11:05.938000",
          "2020-11-04T02:11:06.819000",
          "2020-11-04T02:16:38.062000",
          "2020-11-04T02:16:38.120000",
          "2020-11-04T02:16:39.264000",
          "2020-11-04T02:16:39.425000",
          "2020-11-04T02:16:40.605000",
          "2020-11-04T02:16:41.560000",
          "2020-11-04T02:16:42.251000",
          "2020-11-04T02:22:11.533000",
          "2020-11-04T02:22:11.941000",
          "2020-11-04T02:22:14.161000",
          "2020-11-04T02:22:15.750000",
          "2020-11-04T02:27:47.630000",
          "2020-11-04T02:27:50.215000",
          "2020-11-04T02:27:50.542000",
          "2020-11-04T02:27:52.204000",
          "2020-11-04T02:33:19.477000",
          "2020-11-04T02:33:20.053000",
          "2020-11-04T02:33:20.237000",
          "2020-11-04T02:33:21.684000",
          "2020-11-04T02:33:23.280000",
          "2020-11-04T02:39:08.135000",
          "2020-11-04T02:39:08.990000",
          "2020-11-04T02:39:09.273000",
          "2020-11-04T02:39:10.702000",
          "2020-11-04T02:39:11.026000",
          "2020-11-04T02:39:12.248000",
          "2020-11-04T02:45:08.632000",
          "2020-11-04T02:45:09.516000",
          "2020-11-04T02:45:09.689000",
          "2020-11-04T02:45:10.559000",
          "2020-11-04T02:45:12.079000",
          "2020-11-04T02:50:51.284000",
          "2020-11-04T02:50:51.849000",
          "2020-11-04T02:50:51.991000",
          "2020-11-04T02:50:53.228000",
          "2020-11-04T02:50:53.345000",
          "2020-11-04T02:50:53.824000",
          "2020-11-04T02:50:53.966000",
          "2020-11-04T02:50:55.508000",
          "2020-11-04T02:56:44",
          "2020-11-04T02:56:44.322000",
          "2020-11-04T02:56:45.154000",
          "2020-11-04T02:56:45.825000",
          "2020-11-04T02:56:46.693000",
          "2020-11-04T02:56:47.370000",
          "2020-11-04T02:56:48.585000",
          "2020-11-04T03:02:27.058000",
          "2020-11-04T03:02:27.840000",
          "2020-11-04T03:02:28.129000",
          "2020-11-04T03:02:28.449000",
          "2020-11-04T03:02:29.356000",
          "2020-11-04T03:02:30.295000",
          "2020-11-04T03:02:31.555000",
          "2020-11-04T03:08:07.030000",
          "2020-11-04T03:08:07.797000",
          "2020-11-04T03:08:08.557000",
          "2020-11-04T03:08:09.305000",
          "2020-11-04T03:08:09.740000",
          "2020-11-04T03:08:10.631000",
          "2020-11-04T03:13:44.467000",
          "2020-11-04T03:13:45.017000",
          "2020-11-04T03:13:46.225000",
          "2020-11-04T03:13:47.003000",
          "2020-11-04T03:13:48.233000",
          "2020-11-04T03:19:11",
          "2020-11-04T03:19:11.441000",
          "2020-11-04T03:19:11.445000",
          "2020-11-04T03:19:12.256000",
          "2020-11-04T03:19:12.280000",
          "2020-11-04T03:19:12.286000",
          "2020-11-04T03:19:13.266000",
          "2020-11-04T03:19:14.544000",
          "2020-11-04T03:24:41.333000",
          "2020-11-04T03:24:43.110000",
          "2020-11-04T03:24:44.556000",
          "2020-11-04T03:24:45.283000",
          "2020-11-04T03:24:46.444000",
          "2020-11-04T03:30:15.307000",
          "2020-11-04T03:30:15.688000",
          "2020-11-04T03:30:15.964000",
          "2020-11-04T03:30:16.881000",
          "2020-11-04T03:30:18.185000",
          "2020-11-04T03:30:19.013000",
          "2020-11-04T03:30:20.229000",
          "2020-11-04T03:35:54.087000",
          "2020-11-04T03:35:54.751000",
          "2020-11-04T03:35:57.641000",
          "2020-11-04T03:35:58.994000",
          "2020-11-04T03:41:30.448000",
          "2020-11-04T03:41:30.822000",
          "2020-11-04T03:41:32.286000",
          "2020-11-04T03:41:32.318000",
          "2020-11-04T03:41:33.530000",
          "2020-11-04T03:47:04.485000",
          "2020-11-04T03:47:05.601000",
          "2020-11-04T03:47:05.862000",
          "2020-11-04T03:47:06.653000",
          "2020-11-04T03:47:07.129000",
          "2020-11-04T03:47:07.259000",
          "2020-11-04T03:47:08.444000",
          "2020-11-04T03:47:09.756000",
          "2020-11-04T03:47:09.915000",
          "2020-11-04T03:52:42.678000",
          "2020-11-04T03:52:43.804000",
          "2020-11-04T03:52:44.697000",
          "2020-11-04T03:52:45.029000",
          "2020-11-04T03:52:45.092000",
          "2020-11-04T03:52:46.343000",
          "2020-11-04T03:52:47.700000",
          "2020-11-04T03:58:28.572000",
          "2020-11-04T03:58:28.574000",
          "2020-11-04T03:58:29.312000",
          "2020-11-04T03:58:29.322000",
          "2020-11-04T03:58:29.821000",
          "2020-11-04T03:58:30.358000",
          "2020-11-04T03:58:31.309000",
          "2020-11-04T03:58:32.585000",
          "2020-11-04T04:04:15.749000",
          "2020-11-04T04:04:16.234000",
          "2020-11-04T04:04:16.601000",
          "2020-11-04T04:04:17.392000",
          "2020-11-04T04:04:18.879000",
          "2020-11-04T04:04:18.910000",
          "2020-11-04T04:04:18.933000",
          "2020-11-04T04:04:20.206000",
          "2020-11-04T04:10:00.980000",
          "2020-11-04T04:10:01.137000",
          "2020-11-04T04:10:02.391000",
          "2020-11-04T04:10:02.926000",
          "2020-11-04T04:10:04.027000",
          "2020-11-04T04:10:05.325000",
          "2020-11-04T04:15:37.687000",
          "2020-11-04T04:15:38.302000",
          "2020-11-04T04:15:39.524000",
          "2020-11-04T04:21:16.967000",
          "2020-11-04T04:21:17.180000",
          "2020-11-04T04:21:17.407000",
          "2020-11-04T04:21:18.379000",
          "2020-11-04T04:21:19.203000",
          "2020-11-04T04:21:19.844000",
          "2020-11-04T04:21:19.994000",
          "2020-11-04T04:21:21.072000",
          "2020-11-04T04:26:59.722000",
          "2020-11-04T04:27:00.366000",
          "2020-11-04T04:27:00.827000",
          "2020-11-04T04:27:00.998000",
          "2020-11-04T04:27:03.276000",
          "2020-11-04T04:27:04.634000",
          "2020-11-04T04:32:37.605000",
          "2020-11-04T04:32:39.050000",
          "2020-11-04T04:32:40.081000",
          "2020-11-04T04:32:41.347000"
         ],
         "y": [
          "NVMBRCPGDNS025",
          "CHNNTFKRDNS007",
          "AMBDAMDBDNS009",
          "CHNNTFKRDNS007",
          "BHPLSVDHDNS001",
          "LDHNCHPTDNS002",
          "MRUTDNTLDNS002",
          "CHNNTFKRDNS007",
          "NOIDNDFDDNS018",
          "CHNNTFKRDNS007",
          "MRUTDNTLDNS002",
          "MRUTDNTLDNS002",
          "CHNNTFKRDNS007",
          "PTNARKPRDNS005",
          "KNPRCKDTDNS001",
          "LDHNCHPTDNS003",
          "CHNNTFKRDNS007",
          "MRUTDNTLDNS003",
          "MDURPDNNDNS001",
          "KNPRCKDTDNS003",
          "CHNNTFKRDNS007",
          "PTNARJPLDNS001",
          "CHNNTFKRDNS007",
          "MRUTDNTLDNS003",
          "MRUTDNTLDNS003",
          "CHNNTFKRDNS007",
          "BHPLSVDHDNS002",
          "MRUTDNTLDNS003",
          "CHNNTFKRDNS007",
          "MRUTDNTLDNS003",
          "CHNNTFKRDNS007",
          "MRUTDNTLDNS003",
          "CHNNTFKRDNS007",
          "AMBDJSBWDNS003",
          "MRUTDNTLDNS003",
          "MDURPDNNDNS002",
          "CHNNTFKRDNS007",
          "PTNARKPRDNS007",
          "PTNARJPLDNS004",
          "NGPRSNGNDNS008",
          "BHPLSVDHDNS001",
          "MRUTDNTLDNS003",
          "CHNNTFKRDNS007",
          "BBSRBDGLDNS005",
          "MOUDRAHDDNS003",
          "MRUTDNTLDNS003",
          "CHNNTFKRDNS007",
          "DLHIVKDEDNS008",
          "MRUTDNTLDNS003",
          "CHNNTFKRDNS007",
          "MRUTDNTLDNS003",
          "CHNNTFKRDNS007",
          "DLHIVKDEDNS009",
          "AMBDAMDBDNS008",
          "MRUTDNTLDNS003",
          "KNPRCKDTDNS002",
          "CHNNTFKRDNS007",
          "AMBDAMDBDNS007",
          "MRUTDNTLDNS003",
          "CHNNTFKRDNS007",
          "MRUTDNTLDNS003",
          "CHNNTFKRDNS007",
          "MRUTDNTLDNS003",
          "CHNNTFKRDNS007",
          "MRUTDNTLDNS003",
          "CHNNTFKRDNS007",
          "PTNARKPRDNS005",
          "JPURTBNRDNS006",
          "MRUTDNTLDNS003",
          "JPURTBNRDNS007",
          "CHNNTFKRDNS007",
          "MOUDRAHDDNS003",
          "MRUTDNTLDNS003",
          "CHNNTFKRDNS007",
          "LCKNPLBGDNS009",
          "BHPLSVDHDNS002",
          "BHPLSVDHDNS003",
          "MRUTDNTLDNS003",
          "CHNNTFKRDNS007",
          "MRUTDNTLDNS003",
          "CHNNTFKRDNS007",
          "MRUTDNTLDNS003",
          "CHNNTFKRDNS007",
          "MRUTDNTLDNS003",
          "CHNNTFKRDNS007",
          "BBSRCPTCDNS002",
          "BHPLSVDHDNS001",
          "MRUTDNTLDNS003",
          "MDURPDNNDNS001",
          "CHNNTFKRDNS007",
          "MRUTDNTLDNS003",
          "CHNNTFKRDNS007",
          "BGLRUPKWDNS012",
          "MRUTDNTLDNS003",
          "CHNNTFKRDNS007",
          "BGLRUPKWDNS011",
          "MRUTDNTLDNS003",
          "CHNNTFKRDNS007",
          "MRUTDNTLDNS003",
          "MDURPDNNDNS002",
          "CHNNTFKRDNS007",
          "NVMBRCPGDNS025",
          "MRUTDNTLDNS003",
          "KNPRCKDTDNS001",
          "CHNNTFKRDNS007",
          "MRUTDNTLDNS003",
          "KNPRCKDTDNS003",
          "CHNNTFKRDNS007",
          "BHPLSVDHDNS003",
          "MRUTDNTLDNS003",
          "CHNNTFKRDNS007",
          "MRUTDNTLDNS003",
          "NOIDNDFDDNS017",
          "CHNNTFKRDNS007",
          "PTNARKPRDNS007",
          "BGLRUPKWDNS010",
          "LCKNPLBGDNS010",
          "MRUTDNTLDNS003",
          "CHNNTFKRDNS007",
          "LCKNPLBGDNS008",
          "MRUTDNTLDNS003",
          "CHNNTFKRDNS007",
          "MRUTDNTLDNS003",
          "CHNNTFKRDNS007",
          "LCKNPLBGDNS009",
          "MRUTDNTLDNS003",
          "CHNNTFKRDNS007",
          "bbsrcptcdns003",
          "MRUTDNTLDNS003",
          "CHNNTFKRDNS007",
          "PTNARKPRDNS005",
          "AMBDJSBWDNS001",
          "MRUTDNTLDNS003",
          "CHNNTFKRDNS007",
          "MRUTDNTLDNS003",
          "CHNNTFKRDNS007",
          "NGPRSNGNDNS005",
          "MRUTDNTLDNS003",
          "CHNNTFKRDNS007",
          "LCKNPLBGDNS010",
          "MRUTDNTLDNS003",
          "hdbdtkpydns001",
          "CHNNTFKRDNS007",
          "MRUTDNTLDNS003",
          "CHNNTFKRDNS007",
          "MRUTDNTLDNS003",
          "CHNNTFKRDNS007",
          "MRUTDNTLDNS003",
          "KOCHTPTADNS006",
          "CHNNTFKRDNS007",
          "PTNARKPRDNS006",
          "AMBDJSBWDNS002",
          "ASSLVNGRDNS002",
          "MRUTDNTLDNS003",
          "CHNNTFKRDNS007",
          "PTNARKPRDNS005",
          "LCKNPLBGDNS009",
          "MRUTDNTLDNS003",
          "CHNNTFKRDNS007",
          "BHPLSHPRDNS004",
          "MRUTDNTLDNS003",
          "KOCHTPTADNS004",
          "CHNNTFKRDNS007",
          "LCKNPLBGDNS008",
          "LCKNPLBGDNS010",
          "MRUTDNTLDNS003",
          "MDURPDNNDNS003",
          "MDURPDNNDNS001",
          "CHNNTFKRDNS007",
          "BGLRUPKWDNS011",
          "SGMLCNGBDNS001",
          "MRUTDNTLDNS003",
          "MDURPDNNDNS002",
          "CHNNTFKRDNS007",
          "BBSRBDGLDNS006",
          "MRUTDNTLDNS003",
          "MDURPDNNDNS002",
          "hdbdtkpydns002",
          "CHNNTFKRDNS007",
          "BHPLSHPRDNS005",
          "AMBDJSBWDNS003",
          "MRUTDNTLDNS003",
          "LDHNCHPTDNS001",
          "CHNNTFKRDNS007",
          "AGRALHMDDNS004",
          "DLHIVKDEDNS008",
          "HDBDBGLMDNS002",
          "NGPRSNGNDNS006",
          "MRUTDNTLDNS003",
          "MDURPDNNDNS001",
          "CHNNTFKRDNS007",
          "PTNARKPRDNS007",
          "DLHIVKDEDNS009",
          "MRUTDNTLDNS003",
          "CHNNTFKRDNS007",
          "PTNARKPRDNS006",
          "JPURTBNRDNS005",
          "MRUTDNTLDNS003",
          "CHNNTFKRDNS007",
          "AGRALHMDDNS005",
          "HDBDBGLMDNS001",
          "AMBDJSBWDNS001",
          "MRUTDNTLDNS003",
          "CHNNTFKRDNS007",
          "PTNARKPRDNS007",
          "HDBDBGLMDNS001",
          "BHPLSVDHDNS002",
          "MRUTDNTLDNS003",
          "MDURPDNNDNS003",
          "CHNNTFKRDNS007",
          "BGLRUPKWDNS011",
          "HDBDBGLMDNS003",
          "NGPRSNGNDNS007",
          "MRUTDNTLDNS003",
          "CHNNTFKRDNS007",
          "LCKNPLBGDNS008",
          "CHNNSMJRDNS007",
          "BGLRUPKWDNS010",
          "MOUDRAHDDNS005",
          "BHPLSVDHDNS001",
          "ASSLVNGRDNS002",
          "MRUTDNTLDNS003",
          "CHNNTFKRDNS007",
          "BGLRUPKWDNS012",
          "CHNNSMJRDNS006",
          "AMBDJSBWDNS002",
          "BHPLSHPRDNS004",
          "KOCHTPTADNS005",
          "MRUTDNTLDNS003",
          "CHNNTFKRDNS007",
          "BGLRUPKWDNS012",
          "HDBDBGLMDNS002",
          "BHPLSVDHDNS003",
          "AMBDAMDBDNS010",
          "SGMLCNGBDNS002",
          "MRUTDNTLDNS003",
          "CHNNTFKRDNS007",
          "HDBDBGLMDNS003",
          "BHPLSVDHDNS002",
          "KGPRBPPMDNS001",
          "MRUTDNTLDNS003",
          "hdbdtkpydns003",
          "CHNNTFKRDNS007",
          "BGLRUPKWDNS010",
          "BHPLSHPRDNS006",
          "JPURTBNRDNS007",
          "MRUTDNTLDNS003",
          "CHNNTFKRDNS007",
          "BHPLSHPRDNS005",
          "AMBDJSBWDNS003",
          "MOUDRAHDDNS005",
          "MOUDRAHDDNS004",
          "KGPRBPPMDNS003",
          "JPURTBNRDNS006",
          "MRUTDNTLDNS003",
          "CHNNTFKRDNS007",
          "PTNARKPRDNS005",
          "BHPLSVDHDNS003",
          "KNPRCKDTDNS002",
          "MRUTDNTLDNS003",
          "CHNNTFKRDNS007",
          "PTNARKPRDNS006",
          "DLHIVKDEDNS008",
          "AMBAPMNRDNS007",
          "AMBDAMDBDNS009",
          "SHMLKYRIDNS004",
          "MRUTDNTLDNS003",
          "CHNNTFKRDNS007",
          "SHHDSHHDDNS003",
          "DLHIVKDEDNS009",
          "MRUTDNTLDNS003",
          "CHNNTFKRDNS007",
          "NGPRSNGNDNS008",
          "KGPRBPPMDNS002",
          "MDURPDNNDNS003",
          "MRUTDNTLDNS003",
          "CHNNTFKRDNS007",
          "PTNARKPRDNS005",
          "SHHDSHHDDNS002",
          "UDPRULTCDNS002",
          "HDBDBGTGDNS011",
          "NVMBRCPGDNS025",
          "MOUDRAHDDNS003",
          "MRUTDNTLDNS003",
          "CHNNTFKRDNS007",
          "KLKTKTBADNS007",
          "AMBAPMNRDNS009",
          "AMBDAMDBDNS008",
          "AMBDAMDBDNS007",
          "BBSRCPTCDNS001",
          "MOUDRAHDDNS004",
          "MRUTDNTLDNS003",
          "CHNNTFKRDNS007",
          "HDBDBGLMDNS001",
          "CHNNSMJRDNS008",
          "NVMBRCPGDNS026",
          "BHPLSHPRDNS006",
          "ASSLVNGRDNS001",
          "KNPRCKDTDNS001",
          "MRUTDNTLDNS003",
          "CHNNTFKRDNS007",
          "SHHDSHHDDNS001",
          "NOIDNDFDDNS014",
          "UDPRULTCDNS003",
          "BHPLSHPRDNS004",
          "KNPRCKDTDNS003",
          "SHMLKYRIDNS006",
          "MRUTDNTLDNS003",
          "CHNNTFKRDNS007",
          "UDPRULTCDNS001",
          "AGRALHMDDNS006",
          "NGPRSNGNDNS005",
          "KGPRBPPMDNS003",
          "MRUTDNTLDNS003",
          "CHNNTFKRDNS007",
          "SGMLCNGBDNS003",
          "MRUTDNTLDNS003",
          "CHNNTFKRDNS007",
          "BGLRUPKWDNS011",
          "AMBDJSBWDNS001",
          "HDBDBGLMDNS002",
          "MOUDRAHDDNS003",
          "KGPRBPPMDNS001",
          "MRUTDNTLDNS003",
          "MDURPDNNDNS003",
          "CHNNTFKRDNS007",
          "BGLRUPKWDNS012",
          "HDBDBGLMDNS001",
          "BHPLSHPRDNS005",
          "HDBDBGLMDNS003",
          "MRUTDNTLDNS003",
          "CHNNTFKRDNS007",
          "BGLRUPKWDNS010",
          "KGPRBPPMDNS003",
          "MRUTDNTLDNS003",
          "CHNNTFKRDNS007"
         ]
        }
       ],
       "layout": {
        "height": 800,
        "template": {
         "data": {
          "bar": [
           {
            "error_x": {
             "color": "#2a3f5f"
            },
            "error_y": {
             "color": "#2a3f5f"
            },
            "marker": {
             "line": {
              "color": "#E5ECF6",
              "width": 0.5
             }
            },
            "type": "bar"
           }
          ],
          "barpolar": [
           {
            "marker": {
             "line": {
              "color": "#E5ECF6",
              "width": 0.5
             }
            },
            "type": "barpolar"
           }
          ],
          "carpet": [
           {
            "aaxis": {
             "endlinecolor": "#2a3f5f",
             "gridcolor": "white",
             "linecolor": "white",
             "minorgridcolor": "white",
             "startlinecolor": "#2a3f5f"
            },
            "baxis": {
             "endlinecolor": "#2a3f5f",
             "gridcolor": "white",
             "linecolor": "white",
             "minorgridcolor": "white",
             "startlinecolor": "#2a3f5f"
            },
            "type": "carpet"
           }
          ],
          "choropleth": [
           {
            "colorbar": {
             "outlinewidth": 0,
             "ticks": ""
            },
            "type": "choropleth"
           }
          ],
          "contour": [
           {
            "colorbar": {
             "outlinewidth": 0,
             "ticks": ""
            },
            "colorscale": [
             [
              0,
              "#0d0887"
             ],
             [
              0.1111111111111111,
              "#46039f"
             ],
             [
              0.2222222222222222,
              "#7201a8"
             ],
             [
              0.3333333333333333,
              "#9c179e"
             ],
             [
              0.4444444444444444,
              "#bd3786"
             ],
             [
              0.5555555555555556,
              "#d8576b"
             ],
             [
              0.6666666666666666,
              "#ed7953"
             ],
             [
              0.7777777777777778,
              "#fb9f3a"
             ],
             [
              0.8888888888888888,
              "#fdca26"
             ],
             [
              1,
              "#f0f921"
             ]
            ],
            "type": "contour"
           }
          ],
          "contourcarpet": [
           {
            "colorbar": {
             "outlinewidth": 0,
             "ticks": ""
            },
            "type": "contourcarpet"
           }
          ],
          "heatmap": [
           {
            "colorbar": {
             "outlinewidth": 0,
             "ticks": ""
            },
            "colorscale": [
             [
              0,
              "#0d0887"
             ],
             [
              0.1111111111111111,
              "#46039f"
             ],
             [
              0.2222222222222222,
              "#7201a8"
             ],
             [
              0.3333333333333333,
              "#9c179e"
             ],
             [
              0.4444444444444444,
              "#bd3786"
             ],
             [
              0.5555555555555556,
              "#d8576b"
             ],
             [
              0.6666666666666666,
              "#ed7953"
             ],
             [
              0.7777777777777778,
              "#fb9f3a"
             ],
             [
              0.8888888888888888,
              "#fdca26"
             ],
             [
              1,
              "#f0f921"
             ]
            ],
            "type": "heatmap"
           }
          ],
          "heatmapgl": [
           {
            "colorbar": {
             "outlinewidth": 0,
             "ticks": ""
            },
            "colorscale": [
             [
              0,
              "#0d0887"
             ],
             [
              0.1111111111111111,
              "#46039f"
             ],
             [
              0.2222222222222222,
              "#7201a8"
             ],
             [
              0.3333333333333333,
              "#9c179e"
             ],
             [
              0.4444444444444444,
              "#bd3786"
             ],
             [
              0.5555555555555556,
              "#d8576b"
             ],
             [
              0.6666666666666666,
              "#ed7953"
             ],
             [
              0.7777777777777778,
              "#fb9f3a"
             ],
             [
              0.8888888888888888,
              "#fdca26"
             ],
             [
              1,
              "#f0f921"
             ]
            ],
            "type": "heatmapgl"
           }
          ],
          "histogram": [
           {
            "marker": {
             "colorbar": {
              "outlinewidth": 0,
              "ticks": ""
             }
            },
            "type": "histogram"
           }
          ],
          "histogram2d": [
           {
            "colorbar": {
             "outlinewidth": 0,
             "ticks": ""
            },
            "colorscale": [
             [
              0,
              "#0d0887"
             ],
             [
              0.1111111111111111,
              "#46039f"
             ],
             [
              0.2222222222222222,
              "#7201a8"
             ],
             [
              0.3333333333333333,
              "#9c179e"
             ],
             [
              0.4444444444444444,
              "#bd3786"
             ],
             [
              0.5555555555555556,
              "#d8576b"
             ],
             [
              0.6666666666666666,
              "#ed7953"
             ],
             [
              0.7777777777777778,
              "#fb9f3a"
             ],
             [
              0.8888888888888888,
              "#fdca26"
             ],
             [
              1,
              "#f0f921"
             ]
            ],
            "type": "histogram2d"
           }
          ],
          "histogram2dcontour": [
           {
            "colorbar": {
             "outlinewidth": 0,
             "ticks": ""
            },
            "colorscale": [
             [
              0,
              "#0d0887"
             ],
             [
              0.1111111111111111,
              "#46039f"
             ],
             [
              0.2222222222222222,
              "#7201a8"
             ],
             [
              0.3333333333333333,
              "#9c179e"
             ],
             [
              0.4444444444444444,
              "#bd3786"
             ],
             [
              0.5555555555555556,
              "#d8576b"
             ],
             [
              0.6666666666666666,
              "#ed7953"
             ],
             [
              0.7777777777777778,
              "#fb9f3a"
             ],
             [
              0.8888888888888888,
              "#fdca26"
             ],
             [
              1,
              "#f0f921"
             ]
            ],
            "type": "histogram2dcontour"
           }
          ],
          "mesh3d": [
           {
            "colorbar": {
             "outlinewidth": 0,
             "ticks": ""
            },
            "type": "mesh3d"
           }
          ],
          "parcoords": [
           {
            "line": {
             "colorbar": {
              "outlinewidth": 0,
              "ticks": ""
             }
            },
            "type": "parcoords"
           }
          ],
          "pie": [
           {
            "automargin": true,
            "type": "pie"
           }
          ],
          "scatter": [
           {
            "marker": {
             "colorbar": {
              "outlinewidth": 0,
              "ticks": ""
             }
            },
            "type": "scatter"
           }
          ],
          "scatter3d": [
           {
            "line": {
             "colorbar": {
              "outlinewidth": 0,
              "ticks": ""
             }
            },
            "marker": {
             "colorbar": {
              "outlinewidth": 0,
              "ticks": ""
             }
            },
            "type": "scatter3d"
           }
          ],
          "scattercarpet": [
           {
            "marker": {
             "colorbar": {
              "outlinewidth": 0,
              "ticks": ""
             }
            },
            "type": "scattercarpet"
           }
          ],
          "scattergeo": [
           {
            "marker": {
             "colorbar": {
              "outlinewidth": 0,
              "ticks": ""
             }
            },
            "type": "scattergeo"
           }
          ],
          "scattergl": [
           {
            "marker": {
             "colorbar": {
              "outlinewidth": 0,
              "ticks": ""
             }
            },
            "type": "scattergl"
           }
          ],
          "scattermapbox": [
           {
            "marker": {
             "colorbar": {
              "outlinewidth": 0,
              "ticks": ""
             }
            },
            "type": "scattermapbox"
           }
          ],
          "scatterpolar": [
           {
            "marker": {
             "colorbar": {
              "outlinewidth": 0,
              "ticks": ""
             }
            },
            "type": "scatterpolar"
           }
          ],
          "scatterpolargl": [
           {
            "marker": {
             "colorbar": {
              "outlinewidth": 0,
              "ticks": ""
             }
            },
            "type": "scatterpolargl"
           }
          ],
          "scatterternary": [
           {
            "marker": {
             "colorbar": {
              "outlinewidth": 0,
              "ticks": ""
             }
            },
            "type": "scatterternary"
           }
          ],
          "surface": [
           {
            "colorbar": {
             "outlinewidth": 0,
             "ticks": ""
            },
            "colorscale": [
             [
              0,
              "#0d0887"
             ],
             [
              0.1111111111111111,
              "#46039f"
             ],
             [
              0.2222222222222222,
              "#7201a8"
             ],
             [
              0.3333333333333333,
              "#9c179e"
             ],
             [
              0.4444444444444444,
              "#bd3786"
             ],
             [
              0.5555555555555556,
              "#d8576b"
             ],
             [
              0.6666666666666666,
              "#ed7953"
             ],
             [
              0.7777777777777778,
              "#fb9f3a"
             ],
             [
              0.8888888888888888,
              "#fdca26"
             ],
             [
              1,
              "#f0f921"
             ]
            ],
            "type": "surface"
           }
          ],
          "table": [
           {
            "cells": {
             "fill": {
              "color": "#EBF0F8"
             },
             "line": {
              "color": "white"
             }
            },
            "header": {
             "fill": {
              "color": "#C8D4E3"
             },
             "line": {
              "color": "white"
             }
            },
            "type": "table"
           }
          ]
         },
         "layout": {
          "annotationdefaults": {
           "arrowcolor": "#2a3f5f",
           "arrowhead": 0,
           "arrowwidth": 1
          },
          "coloraxis": {
           "colorbar": {
            "outlinewidth": 0,
            "ticks": ""
           }
          },
          "colorscale": {
           "diverging": [
            [
             0,
             "#8e0152"
            ],
            [
             0.1,
             "#c51b7d"
            ],
            [
             0.2,
             "#de77ae"
            ],
            [
             0.3,
             "#f1b6da"
            ],
            [
             0.4,
             "#fde0ef"
            ],
            [
             0.5,
             "#f7f7f7"
            ],
            [
             0.6,
             "#e6f5d0"
            ],
            [
             0.7,
             "#b8e186"
            ],
            [
             0.8,
             "#7fbc41"
            ],
            [
             0.9,
             "#4d9221"
            ],
            [
             1,
             "#276419"
            ]
           ],
           "sequential": [
            [
             0,
             "#0d0887"
            ],
            [
             0.1111111111111111,
             "#46039f"
            ],
            [
             0.2222222222222222,
             "#7201a8"
            ],
            [
             0.3333333333333333,
             "#9c179e"
            ],
            [
             0.4444444444444444,
             "#bd3786"
            ],
            [
             0.5555555555555556,
             "#d8576b"
            ],
            [
             0.6666666666666666,
             "#ed7953"
            ],
            [
             0.7777777777777778,
             "#fb9f3a"
            ],
            [
             0.8888888888888888,
             "#fdca26"
            ],
            [
             1,
             "#f0f921"
            ]
           ],
           "sequentialminus": [
            [
             0,
             "#0d0887"
            ],
            [
             0.1111111111111111,
             "#46039f"
            ],
            [
             0.2222222222222222,
             "#7201a8"
            ],
            [
             0.3333333333333333,
             "#9c179e"
            ],
            [
             0.4444444444444444,
             "#bd3786"
            ],
            [
             0.5555555555555556,
             "#d8576b"
            ],
            [
             0.6666666666666666,
             "#ed7953"
            ],
            [
             0.7777777777777778,
             "#fb9f3a"
            ],
            [
             0.8888888888888888,
             "#fdca26"
            ],
            [
             1,
             "#f0f921"
            ]
           ]
          },
          "colorway": [
           "#636efa",
           "#EF553B",
           "#00cc96",
           "#ab63fa",
           "#FFA15A",
           "#19d3f3",
           "#FF6692",
           "#B6E880",
           "#FF97FF",
           "#FECB52"
          ],
          "font": {
           "color": "#2a3f5f"
          },
          "geo": {
           "bgcolor": "white",
           "lakecolor": "white",
           "landcolor": "#E5ECF6",
           "showlakes": true,
           "showland": true,
           "subunitcolor": "white"
          },
          "hoverlabel": {
           "align": "left"
          },
          "hovermode": "closest",
          "mapbox": {
           "style": "light"
          },
          "paper_bgcolor": "white",
          "plot_bgcolor": "#E5ECF6",
          "polar": {
           "angularaxis": {
            "gridcolor": "white",
            "linecolor": "white",
            "ticks": ""
           },
           "bgcolor": "#E5ECF6",
           "radialaxis": {
            "gridcolor": "white",
            "linecolor": "white",
            "ticks": ""
           }
          },
          "scene": {
           "xaxis": {
            "backgroundcolor": "#E5ECF6",
            "gridcolor": "white",
            "gridwidth": 2,
            "linecolor": "white",
            "showbackground": true,
            "ticks": "",
            "zerolinecolor": "white"
           },
           "yaxis": {
            "backgroundcolor": "#E5ECF6",
            "gridcolor": "white",
            "gridwidth": 2,
            "linecolor": "white",
            "showbackground": true,
            "ticks": "",
            "zerolinecolor": "white"
           },
           "zaxis": {
            "backgroundcolor": "#E5ECF6",
            "gridcolor": "white",
            "gridwidth": 2,
            "linecolor": "white",
            "showbackground": true,
            "ticks": "",
            "zerolinecolor": "white"
           }
          },
          "shapedefaults": {
           "line": {
            "color": "#2a3f5f"
           }
          },
          "ternary": {
           "aaxis": {
            "gridcolor": "white",
            "linecolor": "white",
            "ticks": ""
           },
           "baxis": {
            "gridcolor": "white",
            "linecolor": "white",
            "ticks": ""
           },
           "bgcolor": "#E5ECF6",
           "caxis": {
            "gridcolor": "white",
            "linecolor": "white",
            "ticks": ""
           }
          },
          "title": {
           "x": 0.05
          },
          "xaxis": {
           "automargin": true,
           "gridcolor": "white",
           "linecolor": "white",
           "ticks": "",
           "title": {
            "standoff": 15
           },
           "zerolinecolor": "white",
           "zerolinewidth": 2
          },
          "yaxis": {
           "automargin": true,
           "gridcolor": "white",
           "linecolor": "white",
           "ticks": "",
           "title": {
            "standoff": 15
           },
           "zerolinecolor": "white",
           "zerolinewidth": 2
          }
         }
        },
        "title": {
         "text": "Log Pattern\n 'A failure in statistics polling resulted in NO DATA'"
        },
        "width": 1000,
        "xaxis": {
         "title": {
          "text": "Date"
         }
        },
        "yaxis": {
         "title": {
          "text": "Server"
         }
        }
       }
      }
     },
     "metadata": {}
    }
   ],
   "source": [
    "# plot the data\n",
    "import plotly.graph_objects as go\n",
    "\n",
    "fig = go.Figure()\n",
    "fig.add_trace(go.Scatter(\n",
    "    x=xdata,\n",
    "    y=ydata,\n",
    "    marker=dict(color=\"crimson\", size=5),\n",
    "    mode=\"markers\",\n",
    "    name=\"Server\",\n",
    "))\n",
    "\n",
    "fig.update_layout(title=\"Log Pattern\\n '%s'\" % pattern,\n",
    "                  xaxis_title=\"Date\",\n",
    "                  yaxis_title=\"Server\",\n",
    "                  width=1000,\n",
    "                  height=800)\n",
    "\n",
    "fig.show()"
   ]
  },
  {
   "cell_type": "code",
   "execution_count": null,
   "metadata": {},
   "outputs": [],
   "source": []
  }
 ]
}